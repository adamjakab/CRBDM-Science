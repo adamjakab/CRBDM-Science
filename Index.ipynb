{
 "cells": [
  {
   "cell_type": "markdown",
   "metadata": {
    "collapsed": true,
    "pycharm": {
     "name": "#%% md\n"
    }
   },
   "source": [
    "Table of contents\n",
    "=================\n",
    "\n",
    "\n",
    "- [Overview](P1.ipynb)\n",
    "- [Major Downtime 23-24 October](P2.ipynb)\n",
    "- [Daylight savings issue (2019-10-27 02:00 - 03:00)](P3.ipynb)\n",
    "- [Hitting the 500 limit](P4.ipynb)\n",
    "- [Networks](P5.ipynb)\n"
   ]
  }
 ],
 "metadata": {
  "kernelspec": {
   "display_name": "Python 3",
   "language": "python",
   "name": "python3"
  },
  "language_info": {
   "codemirror_mode": {
    "name": "ipython",
    "version": 3
   },
   "file_extension": ".py",
   "mimetype": "text/x-python",
   "name": "python",
   "nbconvert_exporter": "python",
   "pygments_lexer": "ipython3",
   "version": "3.7.4"
  },
  "pycharm": {
   "stem_cell": {
    "cell_type": "raw",
    "source": [],
    "metadata": {
     "collapsed": false
    }
   }
  }
 },
 "nbformat": 4,
 "nbformat_minor": 1
}