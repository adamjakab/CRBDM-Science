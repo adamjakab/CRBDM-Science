{
 "cells": [
  {
   "cell_type": "markdown",
   "metadata": {
    "collapsed": true,
    "pycharm": {
     "name": "#%% md\n"
    }
   },
   "source": [
    "General instructions\n",
    "====================\n"
   ]
  },
  {
   "cell_type": "code",
   "execution_count": 1,
   "outputs": [],
   "source": [
    "from lib.data_loader import DataLoader\n",
    "dl = DataLoader()\n",
    "\n",
    "# if for some reason you do not want to cache your data\n",
    "# you can pass 'cache_data=False' to the constructor.  "
   ],
   "metadata": {
    "collapsed": false,
    "pycharm": {
     "name": "#%%\n",
     "is_executing": false
    }
   }
  },
  {
   "cell_type": "code",
   "execution_count": 2,
   "outputs": [
    {
     "data": {
      "text/plain": "      Y   M   D  HH                  ts  total_count  mqtt_count  \\\n0  2019  10  10  16 2019-10-10 16:00:00         2000           4   \n1  2019  10  10  17 2019-10-10 17:00:00         5751          12   \n2  2019  10  10  18 2019-10-10 18:00:00         3342          11   \n3  2019  10  10  19 2019-10-10 19:00:00         2354          12   \n4  2019  10  10  20 2019-10-10 20:00:00         1620          12   \n\n   per_minute_count  \n0             500.0  \n1             479.0  \n2             304.0  \n3             196.0  \n4             135.0  ",
      "text/html": "<div>\n<style scoped>\n    .dataframe tbody tr th:only-of-type {\n        vertical-align: middle;\n    }\n\n    .dataframe tbody tr th {\n        vertical-align: top;\n    }\n\n    .dataframe thead th {\n        text-align: right;\n    }\n</style>\n<table border=\"1\" class=\"dataframe\">\n  <thead>\n    <tr style=\"text-align: right;\">\n      <th></th>\n      <th>Y</th>\n      <th>M</th>\n      <th>D</th>\n      <th>HH</th>\n      <th>ts</th>\n      <th>total_count</th>\n      <th>mqtt_count</th>\n      <th>per_minute_count</th>\n    </tr>\n  </thead>\n  <tbody>\n    <tr>\n      <th>0</th>\n      <td>2019</td>\n      <td>10</td>\n      <td>10</td>\n      <td>16</td>\n      <td>2019-10-10 16:00:00</td>\n      <td>2000</td>\n      <td>4</td>\n      <td>500.0</td>\n    </tr>\n    <tr>\n      <th>1</th>\n      <td>2019</td>\n      <td>10</td>\n      <td>10</td>\n      <td>17</td>\n      <td>2019-10-10 17:00:00</td>\n      <td>5751</td>\n      <td>12</td>\n      <td>479.0</td>\n    </tr>\n    <tr>\n      <th>2</th>\n      <td>2019</td>\n      <td>10</td>\n      <td>10</td>\n      <td>18</td>\n      <td>2019-10-10 18:00:00</td>\n      <td>3342</td>\n      <td>11</td>\n      <td>304.0</td>\n    </tr>\n    <tr>\n      <th>3</th>\n      <td>2019</td>\n      <td>10</td>\n      <td>10</td>\n      <td>19</td>\n      <td>2019-10-10 19:00:00</td>\n      <td>2354</td>\n      <td>12</td>\n      <td>196.0</td>\n    </tr>\n    <tr>\n      <th>4</th>\n      <td>2019</td>\n      <td>10</td>\n      <td>10</td>\n      <td>20</td>\n      <td>2019-10-10 20:00:00</td>\n      <td>1620</td>\n      <td>12</td>\n      <td>135.0</td>\n    </tr>\n  </tbody>\n</table>\n</div>"
     },
     "metadata": {},
     "output_type": "execute_result",
     "execution_count": 2
    }
   ],
   "source": [
    "# get some data\n",
    "df = dl.get_dataframe('SELECT * FROM v__wcb__h__record_counts')\n",
    "df.head()\n"
   ],
   "metadata": {
    "collapsed": false,
    "pycharm": {
     "name": "#%%\n",
     "is_executing": false
    }
   }
  }
 ],
 "metadata": {
  "kernelspec": {
   "display_name": "Python 3",
   "language": "python",
   "name": "python3"
  },
  "language_info": {
   "codemirror_mode": {
    "name": "ipython",
    "version": 2
   },
   "file_extension": ".py",
   "mimetype": "text/x-python",
   "name": "python",
   "nbconvert_exporter": "python",
   "pygments_lexer": "ipython2",
   "version": "2.7.6"
  },
  "pycharm": {
   "stem_cell": {
    "cell_type": "raw",
    "source": [],
    "metadata": {
     "collapsed": false
    }
   }
  }
 },
 "nbformat": 4,
 "nbformat_minor": 0
}