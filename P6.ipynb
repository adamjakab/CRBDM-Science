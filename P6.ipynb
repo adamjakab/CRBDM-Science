{
 "cells": [
  {
   "cell_type": "markdown",
   "metadata": {
    "collapsed": true,
    "pycharm": {
     "name": "#%% md\n"
    }
   },
   "source": [
    "Wifi Networks\n",
    "===================================================\n",
    "\n",
    "Cleaning up list of devices present at ITU for the entire period\n"
   ]
  },
  {
   "cell_type": "code",
   "execution_count": 1,
   "outputs": [],
   "source": [
    "from lib.cached_data_loader import CachedDataLoader\n",
    "from lib.panda_plotter import PandaPlotter\n",
    "cdl = CachedDataLoader()\n",
    "pp = PandaPlotter()\n"
   ],
   "metadata": {
    "collapsed": false,
    "pycharm": {
     "name": "#%%\n",
     "is_executing": false
    }
   }
  },
  {
   "cell_type": "code",
   "execution_count": 3,
   "outputs": [
    {
     "name": "stdout",
     "text": [
      "   DEVICE_COUNT\n0          9113\n"
     ],
     "output_type": "stream"
    }
   ],
   "source": [
    "# COUNT DISTING DEVICES\n",
    "sql = \"SELECT COUNT(DISTINCT(wc.client_mac)) AS DEVICE_COUNT FROM wifi_clients AS wc;\"\n",
    "df = cdl.get_dataframe(sql)\n",
    "print(df)"
   ],
   "metadata": {
    "collapsed": false,
    "pycharm": {
     "name": "#%%\n",
     "is_executing": false
    }
   }
  },
  {
   "cell_type": "code",
   "execution_count": 4,
   "outputs": [
    {
     "name": "stdout",
     "text": [
      "   USER_COUNT\n0        7267\n"
     ],
     "output_type": "stream"
    }
   ],
   "source": [
    "# COUNT DISTING USERS\n",
    "sql = \"SELECT COUNT(DISTINCT(wc.user_name)) AS USER_COUNT FROM wifi_clients AS wc;\"\n",
    "df = cdl.get_dataframe(sql)\n",
    "print(df)\n"
   ],
   "metadata": {
    "collapsed": false,
    "pycharm": {
     "name": "#%%\n",
     "is_executing": false
    }
   }
  }
 ],
 "metadata": {
  "kernelspec": {
   "display_name": "Python 3",
   "language": "python",
   "name": "python3"
  },
  "language_info": {
   "codemirror_mode": {
    "name": "ipython",
    "version": 2
   },
   "file_extension": ".py",
   "mimetype": "text/x-python",
   "name": "python",
   "nbconvert_exporter": "python",
   "pygments_lexer": "ipython2",
   "version": "2.7.6"
  },
  "pycharm": {
   "stem_cell": {
    "cell_type": "raw",
    "source": [],
    "metadata": {
     "collapsed": false
    }
   }
  }
 },
 "nbformat": 4,
 "nbformat_minor": 0
}