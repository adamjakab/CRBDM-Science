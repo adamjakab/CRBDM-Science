{
 "cells": [
  {
   "cell_type": "markdown",
   "metadata": {
    "collapsed": true,
    "pycharm": {
     "name": "#%% md\n"
    }
   },
   "source": [
    "Users & Devices\n",
    "===================================================\n",
    "\n",
    "Cleaning up list of devices present at ITU for the entire period\n",
    "We will look for:\n",
    "- devices always connected to 1-3 devices in the entire period\n",
    "- devices present for 'suspiciously long time\n"
   ]
  },
  {
   "cell_type": "code",
   "execution_count": 1,
   "metadata": {
    "pycharm": {
     "is_executing": false,
     "name": "#%%\n"
    }
   },
   "outputs": [],
   "source": [
    "from lib.cached_data_loader import CachedDataLoader\n",
    "from lib.panda_plotter import PandaPlotter\n",
    "cdl = CachedDataLoader()\n",
    "pp = PandaPlotter()\n"
   ]
  },
  {
   "cell_type": "code",
   "execution_count": 2,
   "metadata": {
    "pycharm": {
     "is_executing": false,
     "name": "#%%\n"
    }
   },
   "outputs": [
    {
     "name": "stdout",
     "text": [
      "0    9127\nName: DEVICE_COUNT, dtype: int64\n"
     ],
     "output_type": "stream"
    }
   ],
   "source": [
    "# COUNT DISTINCT DEVICES\n",
    "sql = \"SELECT COUNT(DISTINCT(wc.client_mac)) AS DEVICE_COUNT FROM wifi_clients AS wc;\"\n",
    "df = cdl.get_dataframe(sql)\n",
    "print(df[\"DEVICE_COUNT\"])"
   ]
  },
  {
   "cell_type": "code",
   "execution_count": 3,
   "metadata": {
    "pycharm": {
     "is_executing": false,
     "name": "#%%\n"
    }
   },
   "outputs": [
    {
     "name": "stdout",
     "text": [
      "0    7283\nName: USER_COUNT, dtype: int64\n"
     ],
     "output_type": "stream"
    }
   ],
   "source": [
    "# COUNT DISTINCT USERS\n",
    "sql = \"SELECT COUNT(DISTINCT(wc.user_name)) AS USER_COUNT FROM wifi_clients AS wc;\"\n",
    "df = cdl.get_dataframe(sql)\n",
    "print(df[\"USER_COUNT\"])"
   ]
  },
  {
   "cell_type": "code",
   "execution_count": 4,
   "metadata": {
    "pycharm": {
     "is_executing": false,
     "name": "#%%\n"
    }
   },
   "outputs": [
    {
     "name": "stdout",
     "text": [
      "                            client_mac  DEVCNT  BATCHES\n0     NnA3K1RKTGxvK3dhVm5abFBBa2J4dz09       2    13155\n1     ejdiWGpPdExMaGdWZHF5eDIvVHd1dz09       3    13153\n2     cWdsWnpsazNsV1JPZHEzanFOemorZz09       2    13133\n3     RWdsNnByclZJOGdMWW40YUN2U3JRUT09       3    12678\n4     TVJ0eGlYWTVENXlTWHVxOFlyYTJOUT09       2    11243\n...                                ...     ...      ...\n3782  WVppZVQ2T29oNitaMVFGT0lrRXB5QT09       1        1\n3783  ZzFrM3BRUmY3L3ZiS3hjQ2ExZHRpZz09       1        1\n3784  WWVlOW5kQnd1SUNGMVBNWUs1RWtVQT09       1        1\n3785  ZzZEdlMxZnhNOStnSHk5d1g4aFk3Zz09       1        1\n3786  WXZ0eGNrczgxMDMrbFhCSU1lbHRjZz09       1        1\n\n[3787 rows x 3 columns]\n"
     ],
     "output_type": "stream"
    }
   ],
   "source": [
    "# DEVICES CONNECTED TO MAX 3 Access Points (stored as: v_wifi_clients_students_2)\n",
    "# The following devices connect to only max 3 access points throughout the entire period\n",
    "# These account for one third of the total number of devices \n",
    "# We can pretty much assume that these non-moving devices are not connected to students and\n",
    "# therefore they are not useful for our purposes.\n",
    "# Assumption: we assume that client_mac is a good way to identify devices(no changes)\n",
    "sql = \"SELECT wc.client_mac, \" \\\n",
    "      \"COUNT(DISTINCT(wc.device_id)) AS DEVCNT, \" \\\n",
    "      \"COUNT(DISTINCT(wc.mqtt_batch)) AS BATCHES \" \\\n",
    "      \"FROM wifi_clients AS wc \" \\\n",
    "      \"GROUP BY wc.client_mac \" \\\n",
    "      \"HAVING COUNT(DISTINCT(wc.device_id)) <= 3 \" \\\n",
    "      \"ORDER BY COUNT(DISTINCT(wc.mqtt_batch)) DESC\"\n",
    "df = cdl.get_dataframe(sql)\n",
    "print(df)\n",
    "\n"
   ]
  },
  {
   "cell_type": "markdown",
   "source": [
    "The above query (v_wifi_clients_students_2) still returns many \n",
    "devices that connect through networks outside ITU++ or eduroam -\n",
    "counts: \n",
    "- not ITU++ or eduroam: 1047 - out of which:\n",
    "- 5te: 36\n",
    "- ITU-guest: 917\n",
    "- ITU-guest-test: 1\n",
    "- ITU-VPN: 1\n",
    "- ITU-VPN2: 0\n",
    "- sensors: 104\n",
    "SELECT COUNT(DISTINCT(wcs2.client_mac))\n",
    "FROM v_wifi_clients_students_2 AS wcs2\n",
    "WHERE ssid IN ('ITU-guest')\n",
    ";\n",
    "\n",
    "Also, this many devices are found connecting on a non-\"Authenticated\"\n",
    "session: 1741\n",
    "\n",
    "SELECT COUNT(DISTINCT(wcs2.client_mac))\n",
    "FROM v_wifi_clients_students_2 AS wcs2\n",
    "WHERE `user_profile` <> 'Authenticated'\n",
    ";\n",
    "\n",
    "so we will create a combined view based on: v_wifi_clients_students\n",
    "and v_wifi_clients_students_2 which will exclude:\n",
    "- non moving devices\n",
    "- authenticated sessions (user_profile = 'Authenticated')\n",
    "- on wifi networks students can connect to AND be identified (ssid=ITU++|eduroam)\n",
    "new view name: v_wifi_clients_students_3"
   ],
   "metadata": {
    "collapsed": false
   }
  },
  {
   "cell_type": "code",
   "execution_count": 5,
   "outputs": [
    {
     "name": "stdout",
     "text": [
      "0    4837\nName: DEVICE_COUNT, dtype: int64\n"
     ],
     "output_type": "stream"
    }
   ],
   "source": [
    "# COUNT DISTINCT DEVICES\n",
    "sql = \"SELECT COUNT(DISTINCT(wcs3.client_mac)) AS DEVICE_COUNT FROM v_wifi_clients_students_3 AS wcs3;\"\n",
    "df = cdl.get_dataframe(sql)\n",
    "print(df[\"DEVICE_COUNT\"])"
   ],
   "metadata": {
    "collapsed": false,
    "pycharm": {
     "name": "#%%\n",
     "is_executing": false
    }
   }
  },
  {
   "cell_type": "code",
   "execution_count": 6,
   "outputs": [
    {
     "name": "stdout",
     "text": [
      "0    3272\nName: USER_COUNT, dtype: int64\n"
     ],
     "output_type": "stream"
    }
   ],
   "source": [
    "# COUNT DISTINCT USERS\n",
    "sql = \"SELECT COUNT(DISTINCT(wcs3.user_name)) AS USER_COUNT FROM v_wifi_clients_students_3 AS wcs3;\"\n",
    "df = cdl.get_dataframe(sql)\n",
    "print(df[\"USER_COUNT\"])\n",
    "\n",
    "\n"
   ],
   "metadata": {
    "collapsed": false,
    "pycharm": {
     "name": "#%%\n",
     "is_executing": false
    }
   }
  }
 ],
 "metadata": {
  "kernelspec": {
   "display_name": "Python 3",
   "language": "python",
   "name": "python3"
  },
  "language_info": {
   "codemirror_mode": {
    "name": "ipython",
    "version": 3
   },
   "file_extension": ".py",
   "mimetype": "text/x-python",
   "name": "python",
   "nbconvert_exporter": "python",
   "pygments_lexer": "ipython3",
   "version": "3.7.4"
  },
  "pycharm": {
   "stem_cell": {
    "cell_type": "raw",
    "source": [],
    "metadata": {
     "collapsed": false
    }
   }
  }
 },
 "nbformat": 4,
 "nbformat_minor": 1
}