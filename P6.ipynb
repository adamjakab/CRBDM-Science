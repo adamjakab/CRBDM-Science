{
 "cells": [
  {
   "cell_type": "markdown",
   "metadata": {
    "collapsed": true,
    "pycharm": {
     "name": "#%% md\n"
    }
   },
   "source": [
    "Users & Devices\n",
    "===================================================\n",
    "\n",
    "Cleaning up list of devices present at ITU for the entire period\n",
    "We will look for:\n",
    "- devices always connected to 1-3 devices in the entire period\n",
    "- devices present for 'suspiciously long time\n"
   ]
  },
  {
   "cell_type": "code",
   "execution_count": 1,
   "outputs": [],
   "source": [
    "from lib.cached_data_loader import CachedDataLoader\n",
    "from lib.panda_plotter import PandaPlotter\n",
    "cdl = CachedDataLoader()\n",
    "pp = PandaPlotter()\n"
   ],
   "metadata": {
    "collapsed": false,
    "pycharm": {
     "name": "#%%\n",
     "is_executing": false
    }
   }
  },
  {
   "cell_type": "code",
   "execution_count": 3,
   "outputs": [
    {
     "name": "stdout",
     "text": [
      "   DEVICE_COUNT\n0          9113\n"
     ],
     "output_type": "stream"
    }
   ],
   "source": [
    "# COUNT DISTINCT DEVICES\n",
    "sql = \"SELECT COUNT(DISTINCT(wc.client_mac)) AS DEVICE_COUNT FROM wifi_clients AS wc;\"\n",
    "df = cdl.get_dataframe(sql)\n",
    "print(df)"
   ],
   "metadata": {
    "collapsed": false,
    "pycharm": {
     "name": "#%%\n",
     "is_executing": false
    }
   }
  },
  {
   "cell_type": "code",
   "execution_count": 4,
   "outputs": [
    {
     "name": "stdout",
     "text": [
      "   USER_COUNT\n0        7267\n"
     ],
     "output_type": "stream"
    }
   ],
   "source": [
    "# COUNT DISTINCT USERS\n",
    "sql = \"SELECT COUNT(DISTINCT(wc.user_name)) AS USER_COUNT FROM wifi_clients AS wc;\"\n",
    "df = cdl.get_dataframe(sql)\n",
    "print(df)"
   ],
   "metadata": {
    "collapsed": false,
    "pycharm": {
     "name": "#%%\n",
     "is_executing": false
    }
   }
  },
  {
   "cell_type": "code",
   "execution_count": 5,
   "outputs": [
    {
     "name": "stdout",
     "text": [
      "                            client_mac  DEVCNT  BATCHES\n0     NnA3K1RKTGxvK3dhVm5abFBBa2J4dz09       2    13022\n1     ejdiWGpPdExMaGdWZHF5eDIvVHd1dz09       3    13020\n2     cWdsWnpsazNsV1JPZHEzanFOemorZz09       2    13000\n3     RWdsNnByclZJOGdMWW40YUN2U3JRUT09       3    12552\n4     TVJ0eGlYWTVENXlTWHVxOFlyYTJOUT09       2    11110\n...                                ...     ...      ...\n3777  RjNndm92UkMweFViS0oyV3E1c01RUT09       1        1\n3778  NzdkTHJRR05sNWFOdFlXWUFtSnhhdz09       1        1\n3779  RkNlVndxcm4wUmZndmVxSmMwTkdWZz09       1        1\n3780  ODlnUlVMamJxajZHcEZsVjJOZUJHQT09       1        1\n3781  ODZady9JV0NJK3NBMXVraTRVczladz09       1        1\n\n[3782 rows x 3 columns]\n"
     ],
     "output_type": "stream"
    }
   ],
   "source": [
    "# DEVICES CONNECTED TO MAX 3 Access Points\n",
    "sql = \"SELECT wc.client_mac, \" \\\n",
    "      \"COUNT(DISTINCT(wc.device_id)) AS DEVCNT, \" \\\n",
    "      \"COUNT(DISTINCT(wc.mqtt_batch)) AS BATCHES \" \\\n",
    "      \"FROM wifi_clients AS wc \" \\\n",
    "      \"GROUP BY wc.client_mac \" \\\n",
    "      \"HAVING COUNT(DISTINCT(wc.device_id)) <= 3 \" \\\n",
    "      \"ORDER BY COUNT(DISTINCT(wc.mqtt_batch)) DESC\"\n",
    "df = cdl.get_dataframe(sql)\n",
    "print(df)\n"
   ],
   "metadata": {
    "collapsed": false,
    "pycharm": {
     "name": "#%%\n",
     "is_executing": false
    }
   }
  }
 ],
 "metadata": {
  "kernelspec": {
   "display_name": "Python 3",
   "language": "python",
   "name": "python3"
  },
  "language_info": {
   "codemirror_mode": {
    "name": "ipython",
    "version": 2
   },
   "file_extension": ".py",
   "mimetype": "text/x-python",
   "name": "python",
   "nbconvert_exporter": "python",
   "pygments_lexer": "ipython2",
   "version": "2.7.6"
  },
  "pycharm": {
   "stem_cell": {
    "cell_type": "raw",
    "source": [],
    "metadata": {
     "collapsed": false
    }
   }
  }
 },
 "nbformat": 4,
 "nbformat_minor": 0
}